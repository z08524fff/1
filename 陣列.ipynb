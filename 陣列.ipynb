{
 "cells": [
  {
   "cell_type": "code",
   "execution_count": 1,
   "metadata": {},
   "outputs": [
    {
     "name": "stdout",
     "output_type": "stream",
     "text": [
      "雞有 23 隻,兔子有 12 隻\n"
     ]
    }
   ],
   "source": [
    "# \n",
    "for chicken in range(0,36):\n",
    "    rabbit = 35-chicken\n",
    "    if(2*chicken+4*rabbit) == 94:\n",
    "        print(\"雞有\",chicken,\"隻,兔子有\",rabbit,\"隻\")\n",
    "        break\n",
    "else:\n",
    "    print(\"無解\")\n"
   ]
  },
  {
   "cell_type": "code",
   "execution_count": 6,
   "metadata": {},
   "outputs": [
    {
     "name": "stdout",
     "output_type": "stream",
     "text": [
      "總和為 55\n"
     ]
    }
   ],
   "source": [
    "sum = 0\n",
    "count = 0\n",
    "while count <= 10 :\n",
    "     sum += count\n",
    "     count += 1\n",
    "print(\"總和為\",sum)    "
   ]
  },
  {
   "cell_type": "code",
   "execution_count": 7,
   "metadata": {},
   "outputs": [
    {
     "name": "stdout",
     "output_type": "stream",
     "text": [
      "37 本金變成 20065\n"
     ]
    }
   ],
   "source": [
    "year = 0\n",
    "x=10000\n",
    "while x<= 20000:\n",
    "    x = x*1.019\n",
    "    year += 1\n",
    "print(year,\"年後本金變成\",int(x))"
   ]
  },
  {
   "cell_type": "code",
   "execution_count": 10,
   "metadata": {},
   "outputs": [
    {
     "name": "stdout",
     "output_type": "stream",
     "text": [
      "清輸入1-5的數字1\n",
      "你猜錯了\n",
      "清輸入1-5的數字2\n",
      "你猜錯了\n",
      "清輸入1-5的數字3\n",
      "你猜錯了\n",
      "清輸入1-5的數字4\n",
      "你猜對了ˊ\n"
     ]
    }
   ],
   "source": [
    "import random\n",
    "number = random.randint(1,5)\n",
    "\n",
    "while True:\n",
    "    guess = int(input(\"清輸入1-5的數字\"))\n",
    "    if guess== number:\n",
    "        print(\"你猜對了ˊ\")\n",
    "        break\n",
    "    else :\n",
    "        print(\"你猜錯了\")\n",
    "    "
   ]
  },
  {
   "cell_type": "code",
   "execution_count": 12,
   "metadata": {},
   "outputs": [
    {
     "name": "stdout",
     "output_type": "stream",
     "text": [
      "5\n",
      "10\n",
      "26\n",
      "46\n",
      "44\n",
      "16\n"
     ]
    }
   ],
   "source": [
    "import numpy as np\n",
    "a = np.random.randint(1,50,size=6)\n",
    "for eacha in a:\n",
    "    print (eacha)"
   ]
  },
  {
   "cell_type": "code",
   "execution_count": 15,
   "metadata": {},
   "outputs": [
    {
     "name": "stdout",
     "output_type": "stream",
     "text": [
      "python\n",
      "javascript\n",
      "SQL\n",
      "SQL\n",
      "javascript\n",
      "java\n",
      "4\n",
      "['python', 'javascript', 'SQL', 'java']\n",
      "['c#', 'python', 'javascript', 'SQL', 'java']\n",
      "['c#', 'python', 'javascript', 'SQL']\n",
      "['python', 'javascript', 'SQL']\n"
     ]
    }
   ],
   "source": [
    "my_list=[]\n",
    "my_list1 = list()\n",
    "my_list2 = [\"python\",\"javascript\",\"SQL\"]\n",
    "print(my_list2[0])\n",
    "print(my_list2[1])\n",
    "print(my_list2[2])\n",
    "print(my_list2[-1])\n",
    "print(my_list2[-2])\n",
    "my_list2.append(\"java\")\n",
    "print(my_list2[-1])\n",
    "print(len(my_list2))\n",
    "print(my_list2)\n",
    "my_list2.insert(0,\"c#\")\n",
    "print(my_list2)\n",
    "del my_list2[-1]\n",
    "print(my_list2)\n",
    "my_list2.remove(\"c#\")\n",
    "print(my_list2)\n"
   ]
  },
  {
   "cell_type": "code",
   "execution_count": null,
   "metadata": {},
   "outputs": [],
   "source": []
  }
 ],
 "metadata": {
  "kernelspec": {
   "display_name": "Python 3",
   "language": "python",
   "name": "python3"
  },
  "language_info": {
   "codemirror_mode": {
    "name": "ipython",
    "version": 3
   },
   "file_extension": ".py",
   "mimetype": "text/x-python",
   "name": "python",
   "nbconvert_exporter": "python",
   "pygments_lexer": "ipython3",
   "version": "3.6.4"
  }
 },
 "nbformat": 4,
 "nbformat_minor": 2
}
